{
  "nbformat": 4,
  "nbformat_minor": 0,
  "metadata": {
    "colab": {
      "provenance": [],
      "include_colab_link": true
    },
    "kernelspec": {
      "name": "python3",
      "display_name": "Python 3"
    },
    "language_info": {
      "name": "python"
    }
  },
  "cells": [
    {
      "cell_type": "markdown",
      "metadata": {
        "id": "view-in-github",
        "colab_type": "text"
      },
      "source": [
        "<a href=\"https://colab.research.google.com/github/Mayurd9/NN-from-scratch/blob/main/Neural_network_generalized.ipynb\" target=\"_parent\"><img src=\"https://colab.research.google.com/assets/colab-badge.svg\" alt=\"Open In Colab\"/></a>"
      ]
    },
    {
      "cell_type": "code",
      "execution_count": null,
      "metadata": {
        "id": "tG1wGJOLrQn8"
      },
      "outputs": [],
      "source": [
        "import numpy as np\n",
        "import joblib\n",
        "import matplotlib.pyplot as plt"
      ]
    },
    {
      "cell_type": "markdown",
      "source": [
        "# **$\\textbf{Loading Dataset}$**\n"
      ],
      "metadata": {
        "id": "z5NQdcT_7qit"
      }
    },
    {
      "cell_type": "code",
      "source": [
        "import tensorflow as tf\n",
        "from keras.datasets import mnist\n",
        "\n",
        "# Load the dataset\n",
        "(x_train0, y_train), (x_test0, y_test) = mnist.load_data()\n",
        "x_train = x_train0.reshape(x_train0.shape[0], -1)\n",
        "x_test = x_test0.reshape(x_test0.shape[0], -1)"
      ],
      "metadata": {
        "id": "E9yJSctWr8b7"
      },
      "execution_count": null,
      "outputs": []
    },
    {
      "cell_type": "code",
      "source": [
        "x_train.shape"
      ],
      "metadata": {
        "colab": {
          "base_uri": "https://localhost:8080/"
        },
        "id": "t6hiIDyssH4u",
        "outputId": "cf4619a9-3639-4683-d97f-15ffc614f95b"
      },
      "execution_count": null,
      "outputs": [
        {
          "output_type": "execute_result",
          "data": {
            "text/plain": [
              "(60000, 784)"
            ]
          },
          "metadata": {},
          "execution_count": 36
        }
      ]
    },
    {
      "cell_type": "markdown",
      "source": [
        "# **$\\textbf{Required Functions}$**"
      ],
      "metadata": {
        "id": "PNRHrCgj70Z0"
      }
    },
    {
      "cell_type": "code",
      "source": [
        "def sigmoid(z):\n",
        "  return 1.0/(1.0+np.exp(-z))\n",
        "\n",
        "def softmax(z):\n",
        "  return np.exp(z)/np.sum(np.exp(z))\n",
        "\n",
        "def feedforward(X, weights, biases, test, hl_activation, softmax_output):\n",
        "  L=len(weights)+1\n",
        "  a=[X]\n",
        "  z=[]\n",
        "  for k in range(L-1):\n",
        "    z.append(weights[k]@a[k] + biases[k])\n",
        "    if hl_activation=='sigmoid':\n",
        "      a.append(sigmoid(z[k]))\n",
        "    elif hl_activation=='tanh':\n",
        "      a.append(2*sigmoid(2*z[k])-1)\n",
        "    elif hl_activation=='ReLu':\n",
        "      a.append(np.maximum(0,z[k]))\n",
        "  if hl_activation=='tanh' or 'ReLu':\n",
        "    a[-1]=sigmoid(z[-1])        #output layer is by default sigmoid since tanh and relu are not compatible with loss function\n",
        "  if softmax_output==True:\n",
        "    a[-1]=softmax(z[-1])\n",
        "\n",
        "  if test==False:\n",
        "    return a,z\n",
        "  else:\n",
        "    return a[-1]\n",
        "\n",
        "def sigmoid_prime(z):\n",
        " return sigmoid(z)*(1-sigmoid(z))\n",
        "\n",
        "def backprop(a,z,y,hl_activation,weights, cost, softmax_output):\n",
        "  L=len(weights)+1\n",
        "  if cost=='Quadratic':\n",
        "    error=[(a[-1]-y)*sigmoid_prime(z[-1])]\n",
        "  elif cost=='CrossEntropy' or softmax_output==True:\n",
        "    error=[(a[-1]-y)]\n",
        "\n",
        "  del_c_w_x=[error[-1]@a[-2].T]\n",
        "  for l in range(2, L):\n",
        "    if hl_activation=='sigmoid':\n",
        "      activation_prime=sigmoid_prime(z[-l])\n",
        "    elif hl_activation=='tanh':\n",
        "      activation_prime = 4*sigmoid_prime(2*z[-l])\n",
        "    elif hl_activation=='ReLu':\n",
        "      activation_prime = np.absolute((np.absolute(z[-l])+z[-l])/(2*z[-l]))\n",
        "\n",
        "    error.insert(0, (weights[-(l-1)].T @ error[-(l-1)])*activation_prime)\n",
        "    del_c_w_x.insert(0, error[-l]@a[-l-1].T)\n",
        "\n",
        "  del_c_b_x = error.copy()\n",
        "  return del_c_b_x, del_c_w_x"
      ],
      "metadata": {
        "id": "lgxQFKgDuI7v"
      },
      "execution_count": null,
      "outputs": []
    },
    {
      "cell_type": "markdown",
      "source": [
        "# **$\\textbf{Function for Training}$**"
      ],
      "metadata": {
        "id": "uRJpslPV7-lY"
      }
    },
    {
      "cell_type": "code",
      "source": [
        "def network_train(x_train,y_train,sizes,cost,hl_activation,epochs,eta,minibatch_size, regularization, lmbda, softmax_output):\n",
        "  L= len(sizes)        #Total number of layers\n",
        "  biases = [np.random.randn(y, 1) for y in sizes[1:]]\n",
        "  weights = [np.random.randn(y, x)/np.sqrt(x) for x, y in zip(sizes[:-1], sizes[1:])]\n",
        "  term_1 = 1\n",
        "  term_2 = 0\n",
        "  if regularization=='l2':\n",
        "    term_1 = 1 - eta*lmbda/len(x_train)\n",
        "    term_2 = 0\n",
        "  elif regularization=='l1':\n",
        "    term_1 = 1\n",
        "    term_2 = (eta*lmbda/len(x_train))\n",
        "\n",
        "  for epoch in range(epochs):\n",
        "    print('epoch number', epoch)\n",
        "    indices=np.arange(60000)\n",
        "    np.random.shuffle(indices)\n",
        "    for i in range(int(60000/minibatch_size)):\n",
        "      minibatch_indices=indices[i*minibatch_size:(i+1)*minibatch_size]\n",
        "      mini_batch_x = x_train[minibatch_indices]\n",
        "      mini_batch_y = y_train[minibatch_indices]\n",
        "\n",
        "      for j in range(len(mini_batch_x)):\n",
        "        a, z = feedforward(mini_batch_x[j].reshape(-1,1)/255.0 , weights, biases, False, hl_activation, softmax_output)\n",
        "        y= np.zeros((10,1))\n",
        "        y[mini_batch_y[j]]=1\n",
        "        del_c_b_x, del_c_w_x = backprop(a,z,y,hl_activation, weights, cost, softmax_output)\n",
        "\n",
        "        if j==0:\n",
        "          del_c_b = del_c_b_x.copy()\n",
        "          del_c_w = del_c_w_x.copy()\n",
        "        else:\n",
        "          for m in range(len(del_c_b)):\n",
        "            del_c_b[m] += del_c_b_x[m]\n",
        "            del_c_w[m] += del_c_w_x[m]\n",
        "\n",
        "      #weights and biases update using stochastic gradient descent\n",
        "      for n in range(L-1):\n",
        "        weights[n] = term_1*weights[n] - term_2*np.sign(weights[n]) - (eta/minibatch_size)*del_c_w[n]\n",
        "        biases[n] = biases[n] - (eta/minibatch_size)*del_c_b[n]\n",
        "\n",
        "  import joblib\n",
        "  file_path1 = 'weights.joblib'\n",
        "  file_path2 = 'biases.joblib'\n",
        "  joblib.dump(weights , file_path1)\n",
        "  joblib.dump(biases , file_path2)\n",
        "\n",
        "  return weights, biases"
      ],
      "metadata": {
        "id": "wdxKJtm4sAfE"
      },
      "execution_count": null,
      "outputs": []
    },
    {
      "cell_type": "markdown",
      "source": [
        "# **$\\textbf{Function for Testing}$**"
      ],
      "metadata": {
        "id": "WXhNIPXl8Idg"
      }
    },
    {
      "cell_type": "code",
      "source": [
        "def network_test(X_test, y_test, weights, biases, hl_activation, softmax_output):\n",
        "  L=len(weights)+1\n",
        "  c=0\n",
        "  for o in range(len(x_test)):\n",
        "    pred_label = np.argmax(feedforward(x_test[o].reshape(-1,1)/255.0, weights, biases, True,hl_activation,softmax_output))\n",
        "    if pred_label == y_test[o]:\n",
        "      c+=1\n",
        "  accuracy=100*c/len(x_test)\n",
        "  print('Accuracy=',accuracy)\n",
        "  return accuracy"
      ],
      "metadata": {
        "id": "dPoRLe1EgF-C"
      },
      "execution_count": null,
      "outputs": []
    },
    {
      "cell_type": "markdown",
      "source": [
        "# $\\textbf{Training}$"
      ],
      "metadata": {
        "id": "G8YvQfrTNYBa"
      }
    },
    {
      "cell_type": "markdown",
      "source": [
        "$\\textbf{Available Options (Type the text as given below while giving inputs as arguments for calling the function):}$\n",
        "\n",
        "$\\text{1) Hidden layer activation function: sigmoid, tanh, ReLu (default output activation in sigmoid)}$\n",
        "\n",
        "$\\text{2) Output activation function: sigmoid (default), softmax (Boolean: True/False)}$\n",
        "\n",
        "$\\text{3) Cost(Loss function): Quadratic, CrossEntropy}$\n",
        "\n",
        "$\\text{4) Regularization: l1, l2}$"
      ],
      "metadata": {
        "id": "PBq6lcb4-X0Q"
      }
    },
    {
      "cell_type": "code",
      "source": [
        "weights, biases = network_train(x_train,y_train,sizes= [784,30,10], cost='CrossEntropy',hl_activation='sigmoid', epochs=30 ,eta=0.5 ,minibatch_size=10, regularization='l2', lmbda= 6.0, softmax_output=False)"
      ],
      "metadata": {
        "colab": {
          "base_uri": "https://localhost:8080/"
        },
        "id": "F4-hH4t0eG5i",
        "outputId": "a31945f3-577e-4787-b3b2-4ebd4df5390c"
      },
      "execution_count": null,
      "outputs": [
        {
          "output_type": "stream",
          "name": "stdout",
          "text": [
            "epoch number 0\n",
            "epoch number 1\n",
            "epoch number 2\n",
            "epoch number 3\n",
            "epoch number 4\n",
            "epoch number 5\n",
            "epoch number 6\n",
            "epoch number 7\n",
            "epoch number 8\n",
            "epoch number 9\n",
            "epoch number 10\n",
            "epoch number 11\n",
            "epoch number 12\n",
            "epoch number 13\n",
            "epoch number 14\n",
            "epoch number 15\n",
            "epoch number 16\n",
            "epoch number 17\n",
            "epoch number 18\n",
            "epoch number 19\n",
            "epoch number 20\n",
            "epoch number 21\n",
            "epoch number 22\n",
            "epoch number 23\n",
            "epoch number 24\n",
            "epoch number 25\n",
            "epoch number 26\n",
            "epoch number 27\n",
            "epoch number 28\n",
            "epoch number 29\n"
          ]
        }
      ]
    },
    {
      "cell_type": "markdown",
      "source": [
        "# **$\\textbf{Testing}$**"
      ],
      "metadata": {
        "id": "m0V7ZeOsNfL1"
      }
    },
    {
      "cell_type": "code",
      "source": [
        "import joblib\n",
        "weights= joblib.load('weights.joblib')\n",
        "biases= joblib.load('biases.joblib')"
      ],
      "metadata": {
        "id": "tV4nP1vPgMlE"
      },
      "execution_count": null,
      "outputs": []
    },
    {
      "cell_type": "code",
      "source": [
        "network_test(x_test, y_test, weights, biases, hl_activation='sigmoid', softmax_output=False)"
      ],
      "metadata": {
        "colab": {
          "base_uri": "https://localhost:8080/"
        },
        "id": "9zSRlODNfJgL",
        "outputId": "91dc5186-52ab-45d4-bc1c-54808a677442"
      },
      "execution_count": null,
      "outputs": [
        {
          "output_type": "stream",
          "name": "stdout",
          "text": [
            "Accuracy= 96.09\n"
          ]
        },
        {
          "output_type": "execute_result",
          "data": {
            "text/plain": [
              "96.09"
            ]
          },
          "metadata": {},
          "execution_count": 53
        }
      ]
    },
    {
      "cell_type": "markdown",
      "source": [
        "# **$\\textbf{Testing on Random Image}$**"
      ],
      "metadata": {
        "id": "hC61RpiWwY4v"
      }
    },
    {
      "cell_type": "code",
      "source": [
        "random_index= np.random.randint(10000)\n",
        "plt.imshow(x_test0[random_index], cmap= 'gray')\n",
        "\n",
        "pred_label = np.argmax(feedforward(x_test0[random_index].reshape(-1,1)/255.0, weights, biases, test= True, hl_activation='sigmoid',softmax_output=False))\n",
        "print('Predicted label = ', pred_label)"
      ],
      "metadata": {
        "id": "AysmYXakkAey",
        "colab": {
          "base_uri": "https://localhost:8080/",
          "height": 447
        },
        "outputId": "99bcbb72-f371-4dfb-9f41-627be6d1d2e8"
      },
      "execution_count": null,
      "outputs": [
        {
          "output_type": "stream",
          "name": "stdout",
          "text": [
            "Predicted label =  6\n"
          ]
        },
        {
          "output_type": "display_data",
          "data": {
            "text/plain": [
              "<Figure size 640x480 with 1 Axes>"
            ],
            "image/png": "[encoded data removed]"
          },
          "metadata": {}
        }
      ]
    },
    {
      "cell_type": "code",
      "source": [],
      "metadata": {
        "id": "wRL1NfmHuHA3"
      },
      "execution_count": null,
      "outputs": []
    }
  ]
}